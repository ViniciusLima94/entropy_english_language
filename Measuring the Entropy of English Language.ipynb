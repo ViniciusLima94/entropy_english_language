{
 "cells": [
  {
   "cell_type": "markdown",
   "metadata": {},
   "source": [
    "# Measuring the Entropy of English Language"
   ]
  },
  {
   "cell_type": "code",
   "execution_count": 29,
   "metadata": {},
   "outputs": [],
   "source": [
    "import numpy             as np \n",
    "import matplotlib.pyplot as plt\n",
    "import pandas            as pd\n",
    "import glob\n",
    "import re"
   ]
  },
  {
   "cell_type": "code",
   "execution_count": 16,
   "metadata": {},
   "outputs": [],
   "source": [
    "##########################################################################\n",
    "# Path where the books in TXT format are located\n",
    "##########################################################################\n",
    "path = 'Gutenberg/txt'"
   ]
  },
  {
   "cell_type": "code",
   "execution_count": 17,
   "metadata": {},
   "outputs": [],
   "source": [
    "##########################################################################\n",
    "# Getting file names (book titles)\n",
    "##########################################################################\n",
    "f_names = []\n",
    "for file in glob.glob(path + \"/*.txt\"):\n",
    "    f_names.append(file)"
   ]
  },
  {
   "cell_type": "code",
   "execution_count": 20,
   "metadata": {},
   "outputs": [
    {
     "name": "stdout",
     "output_type": "stream",
     "text": [
      "Gutenberg/txt\\Abraham Lincoln___Lincoln Letters.txt\n"
     ]
    }
   ],
   "source": [
    "##########################################################################\n",
    "# Let's print of to check\n",
    "##########################################################################\n",
    "print(f_names[0])"
   ]
  },
  {
   "cell_type": "markdown",
   "metadata": {},
   "source": [
    "Let's first load \"Robson Crusoe\" by Daniel Defoe. But first we have to define soma auxiliary functions to pre-process the text file!"
   ]
  },
  {
   "cell_type": "code",
   "execution_count": 71,
   "metadata": {},
   "outputs": [],
   "source": [
    "##########################################################################\n",
    "# Define class bookwork, to read and prepare the text for us!\n",
    "##########################################################################\n",
    "class BookWorm():\n",
    "    \n",
    "    def __init__(self,):\n",
    "        None\n",
    "\n",
    "    ##########################################################################\n",
    "    # This function you read the book file given its path\n",
    "    ##########################################################################\n",
    "    def read_book(self, path):\n",
    "        with open(path, 'r') as file_object:\n",
    "            book = file_object.read()\n",
    "        return book\n",
    "\n",
    "    ##########################################################################\n",
    "    # This function receives the raw text and remove special characters\n",
    "    ##########################################################################\n",
    "    def remove_special(self, raw_text):\n",
    "        final = [re.sub(r\"[^a-zA-Z0-9]+\", ' ', k) for k in raw_text.split(\"\\n\")]\n",
    "        return final\n",
    "\n",
    "    ##########################################################################\n",
    "    # This function vectorizes the book , i.e. concatenates every sentence \n",
    "    # in a single list each sentence is separated by a space\n",
    "    ##########################################################################\n",
    "    def vectorize(self, text_no_special):\n",
    "        text = ''\n",
    "        for sentence in text_no_special:\n",
    "            text = text + ' ' + sentence\n",
    "        text = re.sub(' +', ' ', text) # Removes double spaces\n",
    "        if text[0] == ' ':\n",
    "            return text[1:].lower() # Rerurn only in lowercase\n",
    "        else:\n",
    "            return text.lower() # Rerurn only in lowercase"
   ]
  },
  {
   "cell_type": "code",
   "execution_count": 72,
   "metadata": {},
   "outputs": [],
   "source": [
    "# Instatiate a BookWork object\n",
    "bw = BookWorm()\n",
    "# Reading \"Robison Crusoe\"\n",
    "book     = bw.read_book('Gutenberg/txt/Daniel Defoe___The Life and Adventures of Robinson Crusoe (1808).txt')\n",
    "# Removing special characters (Book with no special characters)\n",
    "book_ns  = bw.remove_special(book)\n",
    "# Vectorizing book\n",
    "book_v   = bw.vectorize(book_ns)"
   ]
  },
  {
   "cell_type": "markdown",
   "metadata": {},
   "source": [
    "Let's check the final result"
   ]
  },
  {
   "cell_type": "code",
   "execution_count": 75,
   "metadata": {},
   "outputs": [
    {
     "name": "stdout",
     "output_type": "stream",
     "text": [
      "the life and adventures of robinson crusoe by daniel de foe london 18o8 illustration i had one labour to make me a canoe which at last i finished the life of de foe daniel de foe was descended from a respectable family in the county of northampton and born in london about the year 1663 his father james foe was a butcher in the parish of st giles s cripplegate and a protestant dissenter why the subject of this memoir prefixed the de to his family name cannot now be ascertained nor did he at any period of his life think it necessary to give his reasons to the public the political scribblers of the day however thought proper to remedy this lack of information and accused him of possessing so little of the amor patriae as to make the addition in order that he might not be taken for an englishman though this idea could have had no other foundation than the circumstance of his having in consequence of his zeal for king william attacked the prejudices of his countrymen in his true born englis\n"
     ]
    }
   ],
   "source": [
    "print(book_v[:1000])"
   ]
  },
  {
   "cell_type": "code",
   "execution_count": null,
   "metadata": {},
   "outputs": [],
   "source": []
  }
 ],
 "metadata": {
  "kernelspec": {
   "display_name": "Python 3",
   "language": "python",
   "name": "python3"
  },
  "language_info": {
   "codemirror_mode": {
    "name": "ipython",
    "version": 3
   },
   "file_extension": ".py",
   "mimetype": "text/x-python",
   "name": "python",
   "nbconvert_exporter": "python",
   "pygments_lexer": "ipython3",
   "version": "3.7.6"
  }
 },
 "nbformat": 4,
 "nbformat_minor": 4
}
